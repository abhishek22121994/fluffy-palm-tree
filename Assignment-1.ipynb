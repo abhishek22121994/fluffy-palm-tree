{
 "cells": [
  {
   "cell_type": "code",
   "execution_count": 3,
   "id": "fd7afed4-cbbe-4949-ab33-e96034c05fa3",
   "metadata": {},
   "outputs": [
    {
     "data": {
      "text/plain": [
       "str"
      ]
     },
     "execution_count": 3,
     "metadata": {},
     "output_type": "execute_result"
    }
   ],
   "source": [
    "#Q1. Create one variable containing following type of data:\n",
    "# (i) string\n",
    "a = (\"this is my first assignment\")\n",
    "type(a)"
   ]
  },
  {
   "cell_type": "code",
   "execution_count": 5,
   "id": "d110376b-80ca-4466-9924-b0b9e4087f31",
   "metadata": {},
   "outputs": [
    {
     "data": {
      "text/plain": [
       "list"
      ]
     },
     "execution_count": 5,
     "metadata": {},
     "output_type": "execute_result"
    }
   ],
   "source": [
    "#list\n",
    "l = [1,2,3, \"Abhishek\" , 5.5, True]\n",
    "type(l)"
   ]
  },
  {
   "cell_type": "code",
   "execution_count": 5,
   "id": "56faceeb-8c1e-4514-b3d1-27aaac920028",
   "metadata": {},
   "outputs": [
    {
     "data": {
      "text/plain": [
       "float"
      ]
     },
     "execution_count": 5,
     "metadata": {},
     "output_type": "execute_result"
    }
   ],
   "source": [
    "#Float\n",
    "b = 45.65\n",
    "type(b)"
   ]
  },
  {
   "cell_type": "code",
   "execution_count": 9,
   "id": "5e094839-321c-414f-91db-918ef8bd8647",
   "metadata": {},
   "outputs": [
    {
     "data": {
      "text/plain": [
       "tuple"
      ]
     },
     "execution_count": 9,
     "metadata": {},
     "output_type": "execute_result"
    }
   ],
   "source": [
    "#Tuple\n",
    "t =(1,5, \"Abhishek\")\n",
    "type(t)"
   ]
  },
  {
   "cell_type": "code",
   "execution_count": 10,
   "id": "251ae1fb-4627-4fea-acbb-4a4b6721339e",
   "metadata": {},
   "outputs": [],
   "source": [
    "#Q2. Given are some following variables containing data: 1\n",
    "var1 = \"\""
   ]
  },
  {
   "cell_type": "code",
   "execution_count": 11,
   "id": "f1151f7d-194a-452f-b124-3a70efda50ae",
   "metadata": {},
   "outputs": [
    {
     "data": {
      "text/plain": [
       "str"
      ]
     },
     "execution_count": 11,
     "metadata": {},
     "output_type": "execute_result"
    }
   ],
   "source": [
    "type(var1)"
   ]
  },
  {
   "cell_type": "code",
   "execution_count": 13,
   "id": "85f958bc-6c8c-4de9-ac87-0989e39a0c1b",
   "metadata": {},
   "outputs": [
    {
     "data": {
      "text/plain": [
       "str"
      ]
     },
     "execution_count": 13,
     "metadata": {},
     "output_type": "execute_result"
    }
   ],
   "source": [
    "#2\n",
    "var2 = '[DS, ML, Python]'\n",
    "type(var2)"
   ]
  },
  {
   "cell_type": "code",
   "execution_count": 14,
   "id": "87080e17-6257-4a92-babe-c481b7114da3",
   "metadata": {},
   "outputs": [
    {
     "data": {
      "text/plain": [
       "list"
      ]
     },
     "execution_count": 14,
     "metadata": {},
     "output_type": "execute_result"
    }
   ],
   "source": [
    "#3\n",
    "var3= ['DS' , 'ML' ,  'Python']\n",
    "type(var3)"
   ]
  },
  {
   "cell_type": "code",
   "execution_count": 15,
   "id": "993aadb5-7fd0-4e45-afc9-6be57b56128d",
   "metadata": {},
   "outputs": [
    {
     "data": {
      "text/plain": [
       "int"
      ]
     },
     "execution_count": 15,
     "metadata": {},
     "output_type": "execute_result"
    }
   ],
   "source": [
    "#4\n",
    "var4 = 1\n",
    "type(var4)"
   ]
  },
  {
   "cell_type": "code",
   "execution_count": 10,
   "id": "6bb425f9-88fc-4874-8159-aa8e5384fd5d",
   "metadata": {},
   "outputs": [
    {
     "data": {
      "text/plain": [
       "2.5"
      ]
     },
     "execution_count": 10,
     "metadata": {},
     "output_type": "execute_result"
    }
   ],
   "source": [
    "#Q3. Explain the use of the following operators using an example: 1\n",
    "a = 10\n",
    "b = 4\n",
    "a/b"
   ]
  },
  {
   "cell_type": "code",
   "execution_count": 1,
   "id": "b6aa1640-8e70-48a1-b510-dbcc0bd713db",
   "metadata": {},
   "outputs": [
    {
     "data": {
      "text/plain": [
       "2"
      ]
     },
     "execution_count": 1,
     "metadata": {},
     "output_type": "execute_result"
    }
   ],
   "source": [
    "#2\n",
    "x = 10\n",
    "y = 4\n",
    "x%y"
   ]
  },
  {
   "cell_type": "code",
   "execution_count": 4,
   "id": "066c3d91-fac0-47ad-b738-7504a832f345",
   "metadata": {},
   "outputs": [
    {
     "data": {
      "text/plain": [
       "3"
      ]
     },
     "execution_count": 4,
     "metadata": {},
     "output_type": "execute_result"
    }
   ],
   "source": [
    "#3\n",
    "p = 17\n",
    "q = 5\n",
    "p//q"
   ]
  },
  {
   "cell_type": "code",
   "execution_count": 6,
   "id": "6e1fbc7e-8ced-4b04-9bf4-eba4bd2527d1",
   "metadata": {},
   "outputs": [
    {
     "data": {
      "text/plain": [
       "125"
      ]
     },
     "execution_count": 6,
     "metadata": {},
     "output_type": "execute_result"
    }
   ],
   "source": [
    "#4\n",
    "a = 5\n",
    "b = 3\n",
    "a**b"
   ]
  },
  {
   "cell_type": "code",
   "execution_count": 19,
   "id": "589cca1a-3f0c-40cb-8137-b736d0642270",
   "metadata": {},
   "outputs": [
    {
     "name": "stdout",
     "output_type": "stream",
     "text": [
      "1\n",
      "<class 'int'>\n",
      "2\n",
      "<class 'int'>\n",
      "3\n",
      "<class 'int'>\n",
      "4\n",
      "<class 'int'>\n",
      "5\n",
      "<class 'int'>\n",
      "6\n",
      "<class 'int'>\n",
      "Abhishek\n",
      "<class 'str'>\n",
      "5.5\n",
      "<class 'float'>\n",
      "True\n",
      "<class 'bool'>\n",
      "0\n",
      "<class 'int'>\n"
     ]
    }
   ],
   "source": [
    "#Q4. Create a list of length 10 of your choice containing multiple types of data. Using for loop print the element and its data type.\n",
    "\n",
    "l = [1,2,3,4,5,6,\"Abhishek\",5.5,True,0]\n",
    "for i in l :\n",
    "    print(i)\n",
    "    print(type(i))\n",
    "    \n",
    "   "
   ]
  },
  {
   "cell_type": "code",
   "execution_count": 30,
   "id": "4157542f-4c58-4de7-877d-acacd3b21b26",
   "metadata": {},
   "outputs": [
    {
     "name": "stdin",
     "output_type": "stream",
     "text": [
      "Enter A 15\n",
      "Enter B 5\n"
     ]
    },
    {
     "name": "stdout",
     "output_type": "stream",
     "text": [
      "3 is divisible by 5 exactly 1 times \n"
     ]
    }
   ],
   "source": [
    "#Q5. Using a while loop, verify if the number A is purely divisible by number B and if so then how many times it can be divisible.\n",
    "\n",
    "A = int(input(\"Enter A\"))\n",
    "B = int(input(\"Enter B\"))\n",
    "Count = 0\n",
    "while A%B == 0:\n",
    "    Count += 1\n",
    "    A//= B\n",
    "    if Count > 0 :\n",
    "        print( f\"{A} is divisible by {B} exactly {Count} times \")\n",
    "    else : \n",
    "        print( f\"{A} is not divisible by {B} \")\n",
    "    "
   ]
  },
  {
   "cell_type": "code",
   "execution_count": 1,
   "id": "318b7a15-a413-429c-9de6-3fd585b69178",
   "metadata": {},
   "outputs": [
    {
     "name": "stdout",
     "output_type": "stream",
     "text": [
      "1\n",
      "this number is not divisible by 3 \n",
      "2\n",
      "this number is not divisible by 3 \n",
      "3\n",
      "this number is divisible by 3 \n",
      "4\n",
      "this number is not divisible by 3 \n",
      "5\n",
      "this number is not divisible by 3 \n",
      "6\n",
      "this number is divisible by 3 \n",
      "7\n",
      "this number is not divisible by 3 \n",
      "8\n",
      "this number is not divisible by 3 \n",
      "9\n",
      "this number is divisible by 3 \n",
      "10\n",
      "this number is not divisible by 3 \n",
      "11\n",
      "this number is not divisible by 3 \n",
      "12\n",
      "this number is divisible by 3 \n",
      "13\n",
      "this number is not divisible by 3 \n",
      "14\n",
      "this number is not divisible by 3 \n",
      "15\n",
      "this number is divisible by 3 \n",
      "16\n",
      "this number is not divisible by 3 \n",
      "17\n",
      "this number is not divisible by 3 \n",
      "18\n",
      "this number is divisible by 3 \n",
      "19\n",
      "this number is not divisible by 3 \n",
      "20\n",
      "this number is not divisible by 3 \n",
      "21\n",
      "this number is divisible by 3 \n",
      "22\n",
      "this number is not divisible by 3 \n",
      "23\n",
      "this number is not divisible by 3 \n",
      "24\n",
      "this number is divisible by 3 \n",
      "25\n",
      "this number is not divisible by 3 \n"
     ]
    }
   ],
   "source": [
    "#Q6. Create a list containing 25 int type data. Using for loop and if-else condition print if the element is divisible by 3 or not.\n",
    "\n",
    "l = [1,2,3,4,5,6,7,8,9,10,11,12,13,14,15,16,17,18,19,20,21,22,23,24,25]\n",
    "for i in l :\n",
    "    if i%3==0:\n",
    "        print(i)\n",
    "        print(\"this number is divisible by 3 \")\n",
    "    else :\n",
    "        print(i)\n",
    "        print(\"this number is not divisible by 3 \")"
   ]
  },
  {
   "cell_type": "code",
   "execution_count": 13,
   "id": "a4462ff3-3cf3-4c59-82a7-e916ae074528",
   "metadata": {},
   "outputs": [
    {
     "name": "stdout",
     "output_type": "stream",
     "text": [
      "[1, 2, 3, 'Pwskills', True]\n"
     ]
    },
    {
     "ename": "NameError",
     "evalue": "name 't' is not defined",
     "output_type": "error",
     "traceback": [
      "\u001b[0;31m---------------------------------------------------------------------------\u001b[0m",
      "\u001b[0;31mNameError\u001b[0m                                 Traceback (most recent call last)",
      "Cell \u001b[0;32mIn[13], line 8\u001b[0m\n\u001b[1;32m      6\u001b[0m \u001b[38;5;66;03m#Immutable data types : We can't change the  value  in immutable  data type like String\u001b[39;00m\n\u001b[1;32m      7\u001b[0m a \u001b[38;5;241m=\u001b[39m \u001b[38;5;124m\"\u001b[39m\u001b[38;5;124mAbhishek\u001b[39m\u001b[38;5;124m\"\u001b[39m\n\u001b[0;32m----> 8\u001b[0m a\u001b[38;5;241m.\u001b[39mreplace[\u001b[38;5;241m2\u001b[39m] \u001b[38;5;241m=\u001b[39m \u001b[43mt\u001b[49m\n\u001b[1;32m      9\u001b[0m \u001b[38;5;28mprint\u001b[39m(a)\n",
      "\u001b[0;31mNameError\u001b[0m: name 't' is not defined"
     ]
    }
   ],
   "source": [
    "#Q7. What do you understand about mutable and immutable data types? Give examples for both showing this property.\n",
    "# Mutable  data  types : We can change the value in Mutable data type like List\n",
    "l= [1,2,3, \"Abhishek\", True]\n",
    "l[3] = \"Pwskills\"\n",
    "print(l)\n",
    "#Immutable data types : We can't change the  value  in immutable  data type like String\n",
    "a = \"Abhishek\"\n",
    "a.replace[2] = t\n",
    "print(a)\n",
    "    "
   ]
  }
 ],
 "metadata": {
  "kernelspec": {
   "display_name": "Python 3 (ipykernel)",
   "language": "python",
   "name": "python3"
  },
  "language_info": {
   "codemirror_mode": {
    "name": "ipython",
    "version": 3
   },
   "file_extension": ".py",
   "mimetype": "text/x-python",
   "name": "python",
   "nbconvert_exporter": "python",
   "pygments_lexer": "ipython3",
   "version": "3.10.8"
  }
 },
 "nbformat": 4,
 "nbformat_minor": 5
}
